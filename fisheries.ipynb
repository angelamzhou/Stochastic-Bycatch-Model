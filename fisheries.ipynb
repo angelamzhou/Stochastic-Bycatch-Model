{
 "cells": [
  {
   "cell_type": "markdown",
   "metadata": {},
   "source": [
    "# Evaluating mean and variance of fleet catch"
   ]
  },
  {
   "cell_type": "markdown",
   "metadata": {},
   "source": [
    "## Analytical expressions of interest\n",
    "\n",
    "Expression for the mean of fleetwide quota: \n",
    "\n",
    "\\begin{equation}-"
   ]
  },
  {
   "cell_type": "markdown",
   "metadata": {},
   "source": [
    "## Initialization of parameters"
   ]
  },
  {
   "cell_type": "code",
   "execution_count": null,
   "metadata": {
    "collapsed": true
   },
   "outputs": [],
   "source": [
    "import scipy.integrate\n",
    "from scipy.stats import norm\n",
    "import matplotlib as plt \n",
    "import numpy as np \n",
    "from scipy import log \n",
    "import operator\n"
   ]
  },
  {
   "cell_type": "code",
   "execution_count": 96,
   "metadata": {
    "collapsed": false
   },
   "outputs": [
    {
     "name": "stdout",
     "output_type": "stream",
     "text": [
      "23040.2968767\n",
      "49992915.7608\n"
     ]
    }
   ],
   "source": [
    "# Initialize parameters \n",
    "\n",
    "# parameters for both models \n",
    "# Q = 45800000\n",
    "# n = 100\n",
    "Q = 400000\n",
    "n = 15\n",
    "# moment-match from Evelyn's manuscript, exp[F_t,i] = 22000\n",
    "mu = 10\n",
    "sig = 0.3\n",
    "\n",
    "print find_expected(mu,sig*sig)\n",
    "print find_variance(mu,sig*sig)\n",
    "# first initialize them to have all the same mean, variance\n",
    "# Keep in mind this parameterization is for the normal distribution describing log returns. \n",
    "# mean of returns = 22000 = e^(4+(1.5^2)/2) = 168\n",
    "# variance of returns: e^()\n",
    "\n",
    "fisher_mu_T = np.empty(n)\n",
    "fisher_sigma_T = np.empty(n)\n",
    "fisher_mu_T.fill(mu)\n",
    "fisher_sigma_T.fill(sig)\n",
    "\n",
    "fisher_mu_B = np.empty(n)\n",
    "fisher_sigma_B = np.empty(n)\n",
    "fisher_mu_B.fill(mu)\n",
    "fisher_sigma_B.fill(sig)\n",
    "\n",
    "IBQ = np.empty(n) \n",
    "IBQ.fill(Q / n)"
   ]
  },
  {
   "cell_type": "markdown",
   "metadata": {},
   "source": [
    "## Function definitions: find parameters of distribution of fleetwide catch for (k) days"
   ]
  },
  {
   "cell_type": "code",
   "execution_count": 81,
   "metadata": {
    "collapsed": true
   },
   "outputs": [],
   "source": [
    "# Helper functions: find the moments of lognormal distribution, given its parameters mu and sigmasqd\n",
    "\n",
    "def find_expected(mu, sigmasqd): \n",
    "    return np.exp(mu+sigmasqd/2)\n",
    "\n",
    "def find_variance(mu, sigmasqd): \n",
    "    return np.exp(2*mu + sigmasqd)*(np.exp(sigmasqd) - 1)\n",
    "\n",
    "\n",
    "# mu_B corresponds to the special case that k = 1\n",
    "def find_sigmasqd_B(k):\n",
    "    num = k * np.sum( (np.exp(2*fisher_mu_B+fisher_sigma_B)) * (np.exp(fisher_sigma_B*fisher_sigma_B) - 1) )\n",
    "    denom = pow(k * np.sum( np.exp(fisher_mu_B+fisher_sigma_B/2) ),2) \n",
    "    return log(num / denom + 1)\n",
    "\n",
    "def find_mu_B(sigmasqd_B, k): \n",
    "    return log( np.sum( np.exp(2*fisher_mu_B + fisher_sigma_B*fisher_sigma_B / 2) ) ) - sigmasqd_B / 2 \n",
    "\n",
    "sigmasqd_B = find_sigmasqd_B(1)\n",
    "mu_B = find_mu_B(sigmasqd_B,1)"
   ]
  },
  {
   "cell_type": "code",
   "execution_count": 49,
   "metadata": {
    "collapsed": false
   },
   "outputs": [
    {
     "ename": "NameError",
     "evalue": "name 'sigmasqd' is not defined",
     "output_type": "error",
     "traceback": [
      "\u001b[1;31m---------------------------------------------------------------------------\u001b[0m",
      "\u001b[1;31mNameError\u001b[0m                                 Traceback (most recent call last)",
      "\u001b[1;32m<ipython-input-49-6db2f030fe6f>\u001b[0m in \u001b[0;36m<module>\u001b[1;34m()\u001b[0m\n\u001b[1;32m----> 1\u001b[1;33m \u001b[0msigmasqd\u001b[0m\u001b[1;33m\u001b[0m\u001b[0m\n\u001b[0m",
      "\u001b[1;31mNameError\u001b[0m: name 'sigmasqd' is not defined"
     ]
    }
   ],
   "source": []
  },
  {
   "cell_type": "markdown",
   "metadata": {},
   "source": [
    "## Find fleet catch mean, variance under collective quota \n",
    "\n",
    "Numerically approximates the discrete expectation over stopping time k to compute: \n",
    "\n",
    "\n",
    "\\begin{equation}\n",
    "E[F_{T}] = \\sum_k^{\\infty}k (\\sum_{i=1}^n e^{\\mu_{i,T} + \\frac{\\sigma_i^2}{2} } )   \\Phi \\left[ \\frac{log Q - \\mu_{Z,B}}{\\sigma_{Z,B}} \\right]  \\int_0^Q \\Phi \\left[ -\\frac{log(Q-q)-\\mu_B}{\\sigma_B} \\right] \\frac{1}{q \\sigma_{Z,B} \\sqrt{2 \\pi}} exp \\left[ - \\frac{(log (q)- \\mu_{Z,B})^2}{2 \\sigma_{Z,B}^2}  \\right] dq \n",
    "\\end{equation} \n",
    "\n",
    "\\begin{align}\n",
    " Var[F_{T}] =  \\sum_k^{\\infty} k \\sum_{i=1}^n e^{2 \\mu_{i,T} + \\sigma_{i,T}^2} (e^{\\sigma_i^2} -1)   \\Phi \\left[ \\frac{log Q - \\mu_{Z,B}}{\\sigma_{Z,B}} \\right]  \\int_0^Q \\Phi \\left[ -\\frac{log(Q-q)-\\mu_B}{\\sigma_B} \\right] \\frac{1}{q \\sigma_{Z,B} \\sqrt{2 \\pi}} exp \\left[ - \\frac{(log (q)- \\mu_{Z,B})^2}{2 \\sigma_{Z,B}^2}  \\right] dq \n",
    "\\end{align} "
   ]
  },
  {
   "cell_type": "code",
   "execution_count": 98,
   "metadata": {
    "collapsed": false,
    "scrolled": true
   },
   "outputs": [
    {
     "name": "stdout",
     "output_type": "stream",
     "text": [
      "1\n",
      "22.7499208715\n",
      "0.00625865924907\n",
      "7612444665.85\n",
      "3.63822341163e+17\n",
      "(0.0, 0.0)\n",
      "________________________________\n"
     ]
    },
    {
     "data": {
      "text/plain": [
       "[0.0, 0.0]"
      ]
     },
     "execution_count": 98,
     "metadata": {},
     "output_type": "execute_result"
    }
   ],
   "source": [
    "\n",
    "# fleetwide catch: \n",
    "# start from k = 0 \n",
    "def find_fleet_catch(fisher_mu_B, fisher_sigma_B, mu_B, sigmasqd_B, fisher_mu_T, fisher_sigma_T):\n",
    "    #helper function for the probability of the fleetwide catch at this time k bringing us above quota\n",
    "    def integrand(q): \n",
    "        return norm.cdf( (log(Q) - mu_Z_B)/ np.sqrt(sigmasqd_Z_B) ) * norm.cdf(-1 * (log(Q - q) - mu_B)/ np.sqrt(sigmasqd_B) ) * (1/ (q * np.sqrt(sigmasqd_Z_B)*np.sqrt(2*np.pi))) * np.exp(-1* pow((log(q) - mu_Z_B),2)/(2*sigmasqd_Z_B))\n",
    "                       \n",
    "    # keep track of some delta, terminate when some precision is met \n",
    "    epsilon = 0.000000001 \n",
    "    k = 2\n",
    "    prev = [0,0]\n",
    "    result = [0,0]\n",
    "    delta = 1000\n",
    "    while (delta > epsilon) and (k < 10000):\n",
    "        # Find parameters of the distribution of the fleetwide catch up until time k-1\n",
    "        print k-1\n",
    "        sigmasqd_Z_B = find_sigmasqd_B(k-1)\n",
    "        mu_Z_B = find_mu_B(sigmasqd_Z_B, k-1)\n",
    "        \n",
    "        print(mu_Z_B)\n",
    "        print(sigmasqd_Z_B)\n",
    "        \n",
    "        print find_expected(mu_Z_B, sigmasqd_Z_B)\n",
    "        print find_variance(mu_Z_B, sigmasqd_Z_B)\n",
    "        \n",
    "        single_catch = np.sum( find_expected(fisher_mu_T, fisher_sigma_T*fisher_sigma_T) )\n",
    "        single_var = np.sum( find_variance(fisher_mu_T, fisher_sigma_T*fisher_sigma_T) ) \n",
    "\n",
    "        # compute probability of the fleetwide catch at this time k bringing us above quota by integrating over possible values of F_{k-1,B}\n",
    "        common = scipy.integrate.quad( integrand , 0, Q)[0]\n",
    "        this = [k * single_catch * common, k*k  * single_var * common] \n",
    "        \n",
    "        print scipy.integrate.quad( integrand , 0, Q)\n",
    "        \n",
    "        delta = max( [ abs(x) for x in map(operator.sub, this, prev) ] ) \n",
    "        prev = this\n",
    "        result = map(operator.add, result, this)\n",
    "        print \"________________________________\"\n",
    "        k += 1\n",
    "        if (k % 100 == 0): \n",
    "            print str(k) + \", this step: \" + str(this) + \", result (mean, variance): \" + str(result) + \", delta: \" + str(delta)\n",
    "        \n",
    "    return result\n",
    "\n",
    "find_fleet_catch(fisher_mu_B, fisher_sigma_B, mu_B, sigmasqd_B, fisher_mu_T, fisher_sigma_T)"
   ]
  },
  {
   "cell_type": "code",
   "execution_count": null,
   "metadata": {
    "collapsed": true
   },
   "outputs": [],
   "source": [
    "## Find fleet catch mean, variance under collective quota \n",
    "\n",
    "Numerically evaluates the discrete expectations to compute: \n",
    "\n",
    "\n",
    "\\begin{equation}\n",
    "E[F_{T}] = \\sum_k^{\\infty}k (\\sum_{i=1}^n e^{\\mu_{i,T} + \\frac{\\sigma_i^2}{2} } )   \\Phi \\left[ \\frac{log Q - \\mu_{Z,B}}{\\sigma_{Z,B}} \\right]  \\int_0^Q \\Phi \\left[ -\\frac{log(Q-q)-\\mu_B}{\\sigma_B} \\right] \\frac{1}{q \\sigma_{Z,B} \\sqrt{2 \\pi}} exp \\left[ - \\frac{(log (q)- \\mu_{Z,B})^2}{2 \\sigma_{Z,B}^2}  \\right] dq \n",
    "\\end{equation} \n",
    "\n",
    "\\begin{align}\n",
    " Var[F_{T}] =  \\sum_k^{\\infty} k \\sum_{i=1}^n e^{2 \\mu_{i,T} + \\sigma_{i,T}^2} (e^{\\sigma_i^2} -1)   \\Phi \\left[ \\frac{log Q - \\mu_{Z,B}}{\\sigma_{Z,B}} \\right]  \\int_0^Q \\Phi \\left[ -\\frac{log(Q-q)-\\mu_B}{\\sigma_B} \\right] \\frac{1}{q \\sigma_{Z,B} \\sqrt{2 \\pi}} exp \\left[ - \\frac{(log (q)- \\mu_{Z,B})^2}{2 \\sigma_{Z,B}^2}  \\right] dq \n",
    "\\end{align} "
   ]
  },
  {
   "cell_type": "code",
   "execution_count": null,
   "metadata": {
    "collapsed": false
   },
   "outputs": [],
   "source": [
    "# find fleet catch and variance for individual quotas\n",
    "def find_fleet_catch_IBQ(fisher_mu_B, fisher_sigma_B, mu_B, sigmasqd_B, fisher_mu_T, fisher_sigma_T, IBQ):\n",
    "    \n",
    "    def integrand(q): \n",
    "        # assumes IBQ same for all fishers\n",
    "        return norm.cdf( (log(Q/n) - mu_Z_B)/ np.sqrt(sigmasqd_Z_B) ) * norm.cdf(-1 * (log(Q/n - q) - mu_B)/ sigmasqd_B ) * (1/ (q * np.sqrt(sigmasqd_Z_B)*np.sqrt(2*np.pi))) * np.exp(-1* pow((log(q) - mu_Z_B),2)/(2*sigmasqd_Z_B))\n",
    "    def compute_integral(ibq):\n",
    "        return scipy.integrate.quad( integrand , 0, ibq)[0]\n",
    "    integral_over_IBQ = np.vectorize(compute_integral)\n",
    "     # keep track of some delta, terminate when some precision is met \n",
    "    epsilon = 0.000000001 \n",
    "    k = 2\n",
    "    prev = [0,0]\n",
    "    result = [0,0]\n",
    "    delta = 1000\n",
    "    while (delta > epsilon) and (k < 10000):\n",
    "        \n",
    "        sigmasqd_Z_B = find_sigmasqd_B(k-1)\n",
    "        mu_Z_B = find_mu_B(sigmasqd_Z_B, k-1)\n",
    "        \n",
    "        catch = np.exp(fisher_mu_T+fisher_sigma_T*fisher_sigma_T/2) \n",
    "        var = np.exp(2*fisher_mu_T + fisher_sigma_T*fisher_sigma_T) * (np.exp(fisher_sigma_T) - 1) \n",
    "        \n",
    "        # compute this iteration with k \n",
    "        # ~FIXME this hack uses the simplification that all fishers have same IBQ; not great for generalizability\n",
    "        common = integral_over_IBQ(IBQ)\n",
    "        this = [ k *np.sum( catch * common ), k*k  * np.sum(single_var * common) ] \n",
    "        \n",
    "        print common\n",
    "        \n",
    "        delta = max( [ abs(x) for x in map(operator.sub, this, prev) ] ) \n",
    "        prev = this\n",
    "        result = map(operator.add, result, this)\n",
    "        \n",
    "        k += 1\n",
    "        if (k % 100 == 0): \n",
    "            print str(k) + \", this step: \" + str(this) + \", result (mean, variance): \" + str(result) + \", delta: \" + str(delta)\n",
    "        \n",
    "    return result"
   ]
  },
  {
   "cell_type": "code",
   "execution_count": null,
   "metadata": {
    "collapsed": true
   },
   "outputs": [],
   "source": []
  },
  {
   "cell_type": "code",
   "execution_count": null,
   "metadata": {
    "collapsed": true
   },
   "outputs": [],
   "source": []
  }
 ],
 "metadata": {
  "kernelspec": {
   "display_name": "Python 2",
   "language": "python",
   "name": "python2"
  },
  "language_info": {
   "codemirror_mode": {
    "name": "ipython",
    "version": 2
   },
   "file_extension": ".py",
   "mimetype": "text/x-python",
   "name": "python",
   "nbconvert_exporter": "python",
   "pygments_lexer": "ipython2",
   "version": "2.7.8"
  }
 },
 "nbformat": 4,
 "nbformat_minor": 0
}
