{
 "cells": [
  {
   "cell_type": "markdown",
   "metadata": {},
   "source": [
    "Expression for the mean of fleetwide quota: \n",
    "\\begin{equation}\n",
    "\\sum_k^{\\infty}k (\\sum_{i=1}^n e^{\\mu_{i,T} + \\frac{\\sigma_i^2}{2} } )   \\Phi \\left[ \\frac{log Q - \\mu_{Z,B}}{\\sigma_{Z,B}} \\right]  \\int_0^Q \\Phi \\left[ -\\frac{log(Q-q)-\\mu_B}{\\sigma_B} \\right] \\frac{1}{q \\sigma_{Z,B} \\sqrt{2 \\pi}} exp \\left[ - \\frac{(log (q)- \\mu_{Z,B})^2}{2 \\sigma_{Z,B}^2}  \\right] dq \n",
    "\\end{equation} \n",
    "\n",
    "\\begin{align}\n",
    "& \\text{where } \\sigma^2_{Z,B} = log \\left[ \\frac{(k-1) \\sum^n_{i=1}e^{2 \\mu_{i,B} + \\sigma_{i,B}} (e^{\\sigma_{i,B}^2} - 1) }{((k-1)(\\sum_{i=1}^n e^{\\mu_i +\\frac{\\sigma_{i,B}^2}{2}}))^2 } + 1 \\right] \n",
    "& \\text{and } \\mu_{Z,B} = log[(k-1) \\sum_{i=1}^{n} e^{2 \\mu_{i,B} + \\frac{\\sigma_{i,B}^2}{2} } ] - \\frac{\\sigma_{Z,B}^2}{2}\n",
    "\\end{align}\n",
    "\n",
    "\\begin{align}\n",
    "& \\text{where } \\sigma^2_{B} = log \\left[ \\frac{ \\sum^n_{i=1}e^{2 \\mu_{i,B} + \\sigma_{i,B}} (e^{\\sigma_{i,B}^2} - 1) }{((\\sum_{i=1}^n e^{\\mu_i +\\frac{\\sigma_{i,B}^2}{2}}))^2 } + 1 \\right] \n",
    "& \\text{and } \\mu_{B} = log[ \\sum_{i=1}^{n} e^{2 \\mu_{i,B} + \\frac{\\sigma_{i,B}^2}{2} } ] - \\frac{\\sigma_{B}^2}{2}\n",
    "\\end{align}\n",
    "\n",
    "\n",
    "Expression for the variance of fleetwide quota: \n",
    "\\begin{align}\n",
    " Var[F_{T}] =  \\sum_k^{\\infty} k \\sum_{i=1}^n e^{2 \\mu_{i,T} + \\sigma_{i,T}^2} (e^{\\sigma_i^2} -1)   \\Phi \\left[ \\frac{log Q - \\mu_{Z,B}}{\\sigma_{Z,B}} \\right]  \\int_0^Q \\Phi \\left[ -\\frac{log(Q-q)-\\mu_B}{\\sigma_B} \\right] \\frac{1}{q \\sigma_{Z,B} \\sqrt{2 \\pi}} exp \\left[ - \\frac{(log (q)- \\mu_{Z,B})^2}{2 \\sigma_{Z,B}^2}  \\right] dq \n",
    "\\end{align} \n",
    "\n",
    "Expression for the target mean and variance of individual quotas: \n",
    "\\begin{align}\n",
    "E[F_T] = \\sum_{k=1}^{\\infty} \\sum_{i=1}^n k(e^{\\mu_{i,T} + \\frac{\\sigma_i^2}{2}}) \\Phi \\left[ \\frac{log (q_i) - \\mu_{k-1,B}}{\\sigma_{k-1,B}} \\right] \\int_0^{q_i} \\Phi \\left[ - \\frac{ log(q_i - q\\prime) - \\mu_{B, k,i}}{\\sigma_{B,k,i}} \\right] Pr[f_{B,k,i} = q\\prime] dq\\prime \\\\\n",
    "Var[F_T]=  \\sum_{k=1}^{\\infty} \\sum_{i=1}^n  k e^{2\\mu_{i,T} + \\sigma_i^2} (e^{\\sigma_{T,i}^2} - 1)  \\Phi \\left[ \\frac{log (q_i) - \\mu_{k-1,B}}{\\sigma_{k-1,B}} \\right] \\int_0^{q_i} \\Phi \\left[ - \\frac{ log(q_i - q\\prime) - \\mu_{B, k,i}}{\\sigma_{B,k,i}} \\right] Pr[f_{B,k,i} = q\\prime] dq\\prime\n",
    "\\end{align} "
   ]
  },
  {
   "cell_type": "code",
   "execution_count": 25,
   "metadata": {
    "collapsed": false
   },
   "outputs": [],
   "source": [
    "import scipy.integrate\n",
    "from scipy.stats import norm\n",
    "import matplotlib as plt \n",
    "import numpy as np \n",
    "from scipy import log \n",
    "import operator\n",
    "\n",
    "# Initialize parameters \n",
    "\n",
    "# parameters for both models \n",
    "Q = 40000\n",
    "n = 15 \n",
    "\n",
    "# first initialize them to have all the same mean, variance\n",
    "# Keep in mind this parameterization is for the normal distribution describing log returns. \n",
    "# mu = 4, sigma = 1.5\n",
    "# mean of returns = e^(4+(1.5^2)/2) = 168\n",
    "# variance of returns: e^()\n",
    "\n",
    "fisher_mu_T = np.empty(n)\n",
    "fisher_sigma_T = np.empty(n)\n",
    "fisher_mu_T.fill(4)\n",
    "fisher_sigma_T.fill(1.5)\n",
    "\n",
    "fisher_mu_B = np.empty(n)\n",
    "fisher_sigma_B = np.empty(n)\n",
    "fisher_mu_B.fill(4)\n",
    "fisher_sigma_B.fill(1.5)\n",
    "\n",
    "# mu_B corresponds to the special case that k = 1\n",
    "def find_sigmasqd_B(k = 1):\n",
    "    num = k * np.sum( (np.exp(2*fisher_mu_B+fisher_sigma_B)) * (np.exp(fisher_sigma_B*fisher_sigma_B) - 1) )\n",
    "    denom = pow(k * np.sum( np.exp(fisher_mu_B+fisher_sigma_B/2) ),2) \n",
    "    return log(num / denom + 1)\n",
    "\n",
    "def find_mu_B(sigmasqd_B, k = 1): \n",
    "    return log( np.sum( np.exp(2*fisher_mu_B + fisher_sigma_B*fisher_sigma_B / 2) ) ) - sigmasqd_B / 2 \n",
    "\n",
    "sigmasqd_B = find_sigmasqd_B()\n",
    "mu_B = find_mu_B(sigmasqd_B)\n"
   ]
  },
  {
   "cell_type": "code",
   "execution_count": 47,
   "metadata": {
    "collapsed": false,
    "scrolled": true
   },
   "outputs": [
    {
     "name": "stdout",
     "output_type": "stream",
     "text": [
      "10, this step: [1.0243148622681463e-07, 5.9976715393057317e-05], result (mean, variance): [22.885992508110164, 13400.436815952764], delta: 0.000839698541997\n"
     ]
    },
    {
     "data": {
      "text/plain": [
       "[22.885992515405277, 13400.436820224273]"
      ]
     },
     "execution_count": 47,
     "metadata": {},
     "output_type": "execute_result"
    }
   ],
   "source": [
    "# Basically we want to show: \n",
    "# fleetwide quota has lower variance than case of individual quotas\n",
    "# mean catch is higher in individual quota case because of free riders ? \n",
    "# Still need to model the impact of free-riding vs not free-riding. Possibly in the structure of the u_i\n",
    "\n",
    "# fleetwide catch: \n",
    "# start from k = 0 \n",
    "def find_fleet_catch(fisher_mu_B, fisher_sigma_B, mu_B, sigmasqd_B, fisher_mu_T, fisher_sigma_T):\n",
    "    \n",
    "    def integrand(q): \n",
    "        return norm.cdf(-1 * (log(Q - q) - mu_B)/ sigmasqd_B ) * (1/ (q * np.sqrt(sigmasqd_Z_B)*np.sqrt(2*np.pi))) * np.exp(-1* pow((log(q) - mu_Z_B),2)/(2*sigmasqd_Z_B))\n",
    "                       \n",
    "     # keep track of some delta, terminate when some precision is met \n",
    "    epsilon = 0.00001 \n",
    "    k = 2\n",
    "    prev = [0,0]\n",
    "    result = [0,0]\n",
    "    delta = 1000\n",
    "    while (delta > epsilon) and (k < 1000):\n",
    "        \n",
    "        sigmasqd_Z_B = find_sigmasqd_B(k-1)\n",
    "        mu_Z_B = find_mu_B(sigmasqd_Z_B, k-1)\n",
    "        \n",
    "        single_catch = np.sum( np.exp(fisher_mu_T+fisher_sigma_T*fisher_sigma_T/2) )\n",
    "        single_var = np.sum( np.exp(2*fisher_mu_T + fisher_sigma_T*fisher_sigma_T) * (np.exp(fisher_sigma_T) - 1) ) \n",
    "        \n",
    "        # compute this iteration with k \n",
    "        common = norm.cdf( (log(Q) - mu_Z_B)/ np.sqrt(sigmasqd_Z_B) ) * scipy.integrate.quad( integrand , 0, Q)[0]\n",
    "        this = [k * single_catch * common, k * single_var * common] \n",
    "                       \n",
    "        delta = max( [ abs(x) for x in map(operator.sub, this, prev) ] ) \n",
    "        prev = this\n",
    "        result = map(operator.add, result, this)\n",
    "        \n",
    "        k += 1\n",
    "        if (k % 10 == 0): \n",
    "            print str(k) + \", this step: \" + str(this) + \", result (mean, variance): \" + str(result) + \", delta: \" + str(delta)\n",
    "        \n",
    "    return result\n",
    "\n",
    "find_fleet_catch(fisher_mu_B, fisher_sigma_B, mu_B, sigmasqd_B, fisher_mu_T, fisher_sigma_T)"
   ]
  },
  {
   "cell_type": "code",
   "execution_count": 1,
   "metadata": {
    "collapsed": false
   },
   "outputs": [
    {
     "data": {
      "text/plain": [
       "u'C:\\\\Users\\\\paint_000\\\\Anaconda'"
      ]
     },
     "execution_count": 1,
     "metadata": {},
     "output_type": "execute_result"
    }
   ],
   "source": [
    "pwd()\n"
   ]
  },
  {
   "cell_type": "code",
   "execution_count": null,
   "metadata": {
    "collapsed": true
   },
   "outputs": [],
   "source": []
  },
  {
   "cell_type": "code",
   "execution_count": null,
   "metadata": {
    "collapsed": true
   },
   "outputs": [],
   "source": []
  }
 ],
 "metadata": {
  "kernelspec": {
   "display_name": "Python 2",
   "language": "python",
   "name": "python2"
  },
  "language_info": {
   "codemirror_mode": {
    "name": "ipython",
    "version": 2
   },
   "file_extension": ".py",
   "mimetype": "text/x-python",
   "name": "python",
   "nbconvert_exporter": "python",
   "pygments_lexer": "ipython2",
   "version": "2.7.8"
  }
 },
 "nbformat": 4,
 "nbformat_minor": 0
}
